{
 "cells": [
  {
   "cell_type": "markdown",
   "id": "d6bed55d-f338-4555-a1e0-18dea1ef8031",
   "metadata": {},
   "source": [
    "# Components Schemas\n",
    "\n",
    "Visualize all registered elements in `MetaRegistry`. Then for components, show schema."
   ]
  },
  {
   "cell_type": "code",
   "execution_count": null,
   "id": "fc3ebc1b-9f22-492c-bcaf-fc8d73029b3e",
   "metadata": {},
   "outputs": [],
   "source": [
    "import json\n",
    "\n",
    "from fl_manager.core.component import Component\n",
    "from fl_manager.core.meta_registry import MetaRegistry"
   ]
  },
  {
   "cell_type": "code",
   "execution_count": null,
   "id": "ef1bb08c-ced0-4e5d-9efc-1512f8ac8761",
   "metadata": {},
   "outputs": [],
   "source": [
    "MetaRegistry.list()"
   ]
  },
  {
   "cell_type": "code",
   "execution_count": null,
   "id": "78c8f061-8abc-4a63-ac3d-d9e69019e506",
   "metadata": {},
   "outputs": [],
   "source": [
    "for reg in MetaRegistry.list():\n",
    "  _name = reg.upper()\n",
    "  _reg = MetaRegistry.get(reg)\n",
    "  _elements = _reg.list()\n",
    "  _total = len(_elements)\n",
    "  last = _total - 1\n",
    "  for idx, e in enumerate(_elements):\n",
    "    print(f'{_name}: {e}')\n",
    "    if issubclass(_reg.get(e), Component):\n",
    "      print(json.dumps(_reg.get(e).get_schema().model_json_schema(), indent=2))\n",
    "    if idx != last:\n",
    "      print(\"-\" * 32)\n",
    "  print(\"=\" * 64)"
   ]
  }
 ],
 "metadata": {
  "kernelspec": {
   "display_name": "Python 3 (ipykernel)",
   "language": "python",
   "name": "python3"
  },
  "language_info": {
   "codemirror_mode": {
    "name": "ipython",
    "version": 3
   },
   "file_extension": ".py",
   "mimetype": "text/x-python",
   "name": "python",
   "nbconvert_exporter": "python",
   "pygments_lexer": "ipython3",
   "version": "3.11.13"
  }
 },
 "nbformat": 4,
 "nbformat_minor": 5
}
