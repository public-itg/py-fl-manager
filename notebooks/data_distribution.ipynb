{
 "cells": [
  {
   "cell_type": "markdown",
   "id": "d7994f15-68a2-4a5e-ba30-785a6f7f804e",
   "metadata": {},
   "source": [
    "# Data Distribution\n",
    "\n",
    "Explore data distribution strategies and visualization."
   ]
  },
  {
   "cell_type": "code",
   "execution_count": null,
   "id": "76799651-bc8b-4aaa-89f0-60588b93f574",
   "metadata": {},
   "outputs": [],
   "source": [
    "import pandas as pd\n",
    "from fl_manager.utils.visualization.plotters.dataset_comparison_heatmap_plotter import DatasetComparisonHeatMapPlotter\n",
    "from fl_manager.utils.visualization.plotters.dataset_comparison_plotter import DatasetComparisonPlotter\n",
    "\n",
    "from fl_manager.core.meta_registry import MetaRegistry\n",
    "from fl_manager.core.schemas.pandas_dataset import PandasDataset"
   ]
  },
  {
   "cell_type": "code",
   "execution_count": null,
   "id": "b32f07d1-4845-4a24-b05c-c8d40b730397",
   "metadata": {},
   "outputs": [],
   "source": [
    "MetaRegistry.get(\"dataset_distributor\").list()"
   ]
  },
  {
   "cell_type": "markdown",
   "id": "d126960f-8891-478d-98a3-751e14848b8f",
   "metadata": {},
   "source": [
    "### Synthetic Dataset"
   ]
  },
  {
   "cell_type": "code",
   "execution_count": null,
   "id": "8e7433b5-148e-489c-9bf3-d6cd8b55591f",
   "metadata": {},
   "outputs": [],
   "source": [
    "data = {\n",
    "  \"feature1\": range(1000),\n",
    "  \"feature2\": range(1000, 2000),\n",
    "  \"label\": [i % 10 for i in range(1000)]  # 10 classes\n",
    "}\n",
    "df = pd.DataFrame(data)"
   ]
  },
  {
   "cell_type": "markdown",
   "id": "14e6c586-676d-4c8b-a1c9-b9980ce72f24",
   "metadata": {},
   "source": [
    "### Data Distribution & Split"
   ]
  },
  {
   "cell_type": "code",
   "execution_count": null,
   "id": "7233e6cc-d59a-4692-98a8-5103feefe2b2",
   "metadata": {},
   "outputs": [],
   "source": [
    "splitter = MetaRegistry.get(\"dataset_splitter\").create(\"proportion\", [0.89, 0.0, 0.11])\n",
    "distributor = MetaRegistry.get(\"dataset_distributor\").create(\"iid\", 10, with_server=False)"
   ]
  },
  {
   "cell_type": "code",
   "execution_count": null,
   "id": "bb8a9969-ec63-4579-9302-bc90cb653fee",
   "metadata": {},
   "outputs": [],
   "source": [
    "distributed = distributor._distribute(df)"
   ]
  },
  {
   "cell_type": "code",
   "execution_count": null,
   "id": "b2224096-ace9-4b3e-9c0d-086c4c582fb3",
   "metadata": {},
   "outputs": [],
   "source": [
    "split = splitter.split(distributor.get_dataset_distribution(PandasDataset(train=df)))\n",
    "split"
   ]
  },
  {
   "cell_type": "code",
   "execution_count": null,
   "id": "ca994ebc-d63a-42e7-a243-72647a368dfa",
   "metadata": {},
   "outputs": [],
   "source": [
    "distributor.global_test_split"
   ]
  },
  {
   "cell_type": "code",
   "execution_count": null,
   "id": "76051812-bd23-4502-a5f7-db44f4a2b92d",
   "metadata": {},
   "outputs": [],
   "source": [
    "dirichlet_distributor = MetaRegistry.get(\"dataset_distributor\").create(\"dirichlet\", target_col='label', balancing=False,\n",
    "                                                                       num_clients=3, alpha=0.5, with_server=False,\n",
    "                                                                       min_distribution_size=0)\n",
    "dirichlet_distributor.get_dataset_distribution(PandasDataset(train=df))"
   ]
  },
  {
   "cell_type": "code",
   "execution_count": null,
   "id": "a44fc97d-3209-43f4-892c-9449fe20c98a",
   "metadata": {},
   "outputs": [],
   "source": [
    "plotter = DatasetComparisonPlotter(dirichlet_distributor._distributed_dataset, 'label', x_label='Client',\n",
    "                                   color_palette='deep')\n",
    "plotter.run()"
   ]
  },
  {
   "cell_type": "code",
   "execution_count": null,
   "id": "680b372b-1648-4406-bd9f-4e54a014b965",
   "metadata": {},
   "outputs": [],
   "source": [
    "plotter = DatasetComparisonPlotter(distributor._distributed_dataset, 'label', 'Client', color_palette='deep',\n",
    "                                   hatch_patterns=['/o', '\\\\', '|*', '-', '+|', 'x', 'o', 'O', '.', '*'])\n",
    "plotter.run()"
   ]
  },
  {
   "cell_type": "code",
   "execution_count": null,
   "id": "91c94f53-28bb-44cb-9ec4-a897090a1c84",
   "metadata": {},
   "outputs": [],
   "source": [
    "plotter = DatasetComparisonHeatMapPlotter(dirichlet_distributor._distributed_dataset, 'label', 'Client')\n",
    "plotter.run()"
   ]
  },
  {
   "cell_type": "code",
   "execution_count": null,
   "id": "98f0ae86-18bf-488c-8fdd-23578cc5d040",
   "metadata": {},
   "outputs": [],
   "source": [
    "plotter = DatasetComparisonHeatMapPlotter(distributor._distributed_dataset, 'label', 'Client')\n",
    "plotter.run()"
   ]
  },
  {
   "cell_type": "code",
   "execution_count": null,
   "id": "362dcd11-443f-4ad5-b0a6-132a8fd02340",
   "metadata": {},
   "outputs": [],
   "source": [
    "MetaRegistry.get(\"dataset_splitter\").list()"
   ]
  },
  {
   "cell_type": "code",
   "execution_count": null,
   "id": "f7c68c09-8704-4bdd-800e-a730ee2d3ffe",
   "metadata": {},
   "outputs": [],
   "source": [
    "stratified_splitter = MetaRegistry.get(\"dataset_splitter\").create(\"stratified\", target_col=\"label\",\n",
    "                                                                  min_samples_per_class=20)"
   ]
  },
  {
   "cell_type": "code",
   "execution_count": null,
   "id": "90264e93-1aff-40e5-97d9-2b261e96c455",
   "metadata": {},
   "outputs": [],
   "source": [
    "s = stratified_splitter.split(PandasDataset(train=dirichlet_distributor._distributed_dataset[0]))\n",
    "s"
   ]
  },
  {
   "cell_type": "code",
   "execution_count": null,
   "id": "831399e8-6101-4e61-a224-6b839f31e2b4",
   "metadata": {},
   "outputs": [],
   "source": [
    "plotter = DatasetComparisonPlotter([s.train, s.val, s.test], 'label', 'Split', ['train', 'val', 'test'],\n",
    "                                   color_palette='deep')\n",
    "plotter.run()"
   ]
  },
  {
   "cell_type": "code",
   "execution_count": null,
   "id": "ff845c3f-652b-4f22-84ec-91f231024e6e",
   "metadata": {},
   "outputs": [],
   "source": [
    "splitter = MetaRegistry.get(\"dataset_splitter\").create(\"proportion\", [0.8, 0.1, 0.1])\n",
    "d = splitter.split(PandasDataset(train=dirichlet_distributor._distributed_dataset[0]))\n",
    "d"
   ]
  },
  {
   "cell_type": "code",
   "execution_count": null,
   "id": "c497be6d-b232-4250-9468-05df70453d25",
   "metadata": {},
   "outputs": [],
   "source": [
    "plotter = DatasetComparisonPlotter([d.train, d.val, d.test], 'label', 'Split', ['train', 'val', 'test'],\n",
    "                                   color_palette='deep')\n",
    "plotter.run()"
   ]
  },
  {
   "cell_type": "code",
   "execution_count": null,
   "id": "b25567bc-8795-40a6-9793-51ddb5be658c",
   "metadata": {},
   "outputs": [],
   "source": [
    "plotter = DatasetComparisonHeatMapPlotter([d.train, d.val, d.test], 'label', 'Split', ['train', 'val', 'test'])\n",
    "plotter.run()"
   ]
  }
 ],
 "metadata": {
  "kernelspec": {
   "display_name": "Python 3 (ipykernel)",
   "language": "python",
   "name": "python3"
  },
  "language_info": {
   "codemirror_mode": {
    "name": "ipython",
    "version": 3
   },
   "file_extension": ".py",
   "mimetype": "text/x-python",
   "name": "python",
   "nbconvert_exporter": "python",
   "pygments_lexer": "ipython3",
   "version": "3.11.13"
  }
 },
 "nbformat": 4,
 "nbformat_minor": 5
}
