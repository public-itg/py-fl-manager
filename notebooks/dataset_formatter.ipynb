{
 "cells": [
  {
   "cell_type": "markdown",
   "id": "5a73f9fe-e7d0-49ed-ac69-bd5796609e01",
   "metadata": {},
   "source": [
    "# Dataset Formatter\n",
    "\n",
    "Testing dataset formatter capabilities."
   ]
  },
  {
   "cell_type": "code",
   "execution_count": null,
   "id": "fe19f46d-a1cb-469d-a14a-bb821c006399",
   "metadata": {},
   "outputs": [],
   "source": [
    "import pandas as pd\n",
    "from torch.utils.data import DataLoader\n",
    "\n",
    "from fl_manager.components.preprocessors.torchvision import constants as vision_constants\n",
    "from fl_manager.core.components.datasets import DataFrameDatasetRegistry\n",
    "from fl_manager.core.components.formatters import DatasetFormatterComposite, DatasetFormatterRegistry\n",
    "from fl_manager.core.components.preprocessors import DatasetPreprocessorComposite, DatasetPreprocessorRegistry\n",
    "from fl_manager.core.components.readers import DatasetReaderRegistry\n",
    "from fl_manager.core.schemas.pandas_dataset import PandasDataset"
   ]
  },
  {
   "cell_type": "markdown",
   "id": "8eadb2d7-66e6-4e49-b927-68438f6b245a",
   "metadata": {},
   "source": [
    "### Load Dataset"
   ]
  },
  {
   "cell_type": "code",
   "execution_count": null,
   "id": "e0d66329-8cbf-4658-ab6b-e0c8a30947ec",
   "metadata": {},
   "outputs": [],
   "source": [
    "DatasetReaderRegistry.list()"
   ]
  },
  {
   "cell_type": "code",
   "execution_count": null,
   "id": "a7613d59-a286-4dba-9690-f3646a838a92",
   "metadata": {},
   "outputs": [],
   "source": [
    "reader = DatasetReaderRegistry.create(\"huggingface\", \"ylecun/mnist\", {\"train\": \"train\"})\n",
    "data = reader.fetch_dataset()\n",
    "train_data = data.train"
   ]
  },
  {
   "cell_type": "code",
   "execution_count": null,
   "id": "8f790967-cf3f-453d-a33c-24fbcc08abba",
   "metadata": {},
   "outputs": [],
   "source": [
    "reader._available_splits"
   ]
  },
  {
   "cell_type": "code",
   "execution_count": null,
   "id": "a5167e9e-2605-4a70-9bda-700f7e4fc70c",
   "metadata": {},
   "outputs": [],
   "source": [
    "train_data.head(2)"
   ]
  },
  {
   "cell_type": "markdown",
   "id": "485c02ad-8bf9-4a9f-9429-f2d796d27fce",
   "metadata": {},
   "source": [
    "### Setup Operations and Run Formatter"
   ]
  },
  {
   "cell_type": "code",
   "execution_count": null,
   "id": "fb9a4602-793d-4426-9c49-6f77afb4777b",
   "metadata": {},
   "outputs": [],
   "source": [
    "DatasetFormatterRegistry.list()"
   ]
  },
  {
   "cell_type": "code",
   "execution_count": null,
   "id": "1c54f529-fd5b-4c20-8aa0-fdb4b7a84f6c",
   "metadata": {},
   "outputs": [],
   "source": [
    "dataset_formatter = DatasetFormatterComposite()\n",
    "dataset_formatter.add(DatasetFormatterRegistry.create(\"dict_extractor\", \"image\", [\"bytes\"]))\n",
    "dataset_formatter.add(DatasetFormatterRegistry.create(\"column_dropper\", \"image\"))\n",
    "dataset_formatter.add(DatasetFormatterRegistry.create(\"column_rename\", \"image__bytes\", \"image\"))"
   ]
  },
  {
   "cell_type": "code",
   "execution_count": null,
   "id": "7f52db52-8600-4dc2-aeef-9758d94ff48e",
   "metadata": {},
   "outputs": [],
   "source": [
    "f_train_data = dataset_formatter.run(train_data)"
   ]
  },
  {
   "cell_type": "code",
   "execution_count": null,
   "id": "46ffff57-3c9a-4d8a-8081-39c4b719a71a",
   "metadata": {},
   "outputs": [],
   "source": [
    "f_train_data.head(2)"
   ]
  },
  {
   "cell_type": "markdown",
   "id": "105674de-46d0-4b1b-a0f3-8daf7083f00e",
   "metadata": {},
   "source": [
    "### DataLoader"
   ]
  },
  {
   "cell_type": "code",
   "execution_count": null,
   "id": "dea48eae-b967-43c9-94a3-1f29eb6dd76d",
   "metadata": {},
   "outputs": [],
   "source": [
    "dataset_preprocessor = DatasetPreprocessorComposite()\n",
    "dataset_preprocessor.add(DatasetPreprocessorRegistry.create(\"bytes_to_tensor\"))\n",
    "dataset_preprocessor.add(\n",
    "  DatasetPreprocessorRegistry.create(\"tensor_normalization\", **vision_constants.MNIST_NORM_VALUES))"
   ]
  },
  {
   "cell_type": "code",
   "execution_count": null,
   "id": "efe2f7ea-c139-44b5-97ca-6b40b27ea49e",
   "metadata": {},
   "outputs": [],
   "source": [
    "dataset = DataFrameDatasetRegistry.get('torch_dataframe_transforms_dataset')({\"image\": dataset_preprocessor},\n",
    "                                                                             [\"image\", \"label\"]).get_dataset(\n",
    "  PandasDataset(train=f_train_data, val=pd.DataFrame(), test=pd.DataFrame()))"
   ]
  },
  {
   "cell_type": "code",
   "execution_count": null,
   "id": "ca27dd47-8190-4e1b-8659-8876ef9f9ee2",
   "metadata": {},
   "outputs": [],
   "source": [
    "dataloader = DataLoader(dataset.train, batch_size=2)\n",
    "for sample in dataloader:\n",
    "  break\n",
    "sample"
   ]
  }
 ],
 "metadata": {
  "kernelspec": {
   "display_name": "Python 3 (ipykernel)",
   "language": "python",
   "name": "python3"
  },
  "language_info": {
   "codemirror_mode": {
    "name": "ipython",
    "version": 3
   },
   "file_extension": ".py",
   "mimetype": "text/x-python",
   "name": "python",
   "nbconvert_exporter": "python",
   "pygments_lexer": "ipython3",
   "version": "3.11.13"
  }
 },
 "nbformat": 4,
 "nbformat_minor": 5
}
