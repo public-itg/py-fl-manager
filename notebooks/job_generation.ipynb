{
 "cells": [
  {
   "cell_type": "markdown",
   "id": "fedcea0a-c36a-4bd4-8939-55f22d9833b3",
   "metadata": {},
   "source": [
    "# Job Generation"
   ]
  },
  {
   "cell_type": "code",
   "execution_count": null,
   "id": "d8e1d69e-d089-4ca6-94eb-3d21cd906ce7",
   "metadata": {},
   "outputs": [],
   "source": [
    "import json\n",
    "from pathlib import Path\n",
    "\n",
    "from fl_manager.core.meta_registry import MetaRegistry\n",
    "from fl_manager.core.executors import FLExecutorRegistry\n",
    "from fl_manager.core.schemas.registry_item import RegistryItem\n",
    "from fl_manager.core.schemas.fl_config import FLConfig\n",
    "from fl_manager.utils.job_generator.job_creator import JobCreator\n",
    "from fl_manager.utils.job_generator.schemas.job_config import JobConfig\n",
    "from fl_manager.utils.job_generator.federated_job.pt import PTFederatedJobRegistry"
   ]
  },
  {
   "cell_type": "code",
   "execution_count": null,
   "id": "cd1949fa-b03f-4d9e-b8e4-5ffa3f562f25",
   "metadata": {},
   "outputs": [],
   "source": [
    "a = FLConfig(**json.loads([\n",
    "  e for e in Path(\"../examples/nvflare_mnist/sag_pt__mnist_example/app/custom\").glob('*.json')\n",
    "][0].read_text()))"
   ]
  },
  {
   "cell_type": "code",
   "execution_count": null,
   "id": "a7d17d31-3336-4fa1-a58c-084bf51ea5ef",
   "metadata": {},
   "outputs": [],
   "source": [
    "q = a.fl_executor.keyword_arguments.copy()\n",
    "components = q.pop('components')\n",
    "fl_algorithm = q.pop('fl_algorithm')\n",
    "fl_algorithm_kwargs = q.pop('fl_algorithm_kwargs')"
   ]
  },
  {
   "cell_type": "markdown",
   "id": "66b8c94a-f1df-4517-be73-bd460d8db05b",
   "metadata": {},
   "source": [
    "### MNIST Example"
   ]
  },
  {
   "cell_type": "code",
   "execution_count": null,
   "id": "068bdbc6-4794-4ee7-8db3-e4c68f3cb35f",
   "metadata": {},
   "outputs": [],
   "source": [
    "_components = components | {\n",
    "  'dataset_distributor': RegistryItem(**{'registry_id': 'dataset_distributor', 'name': 'dirichlet',\n",
    "                                         'keyword_arguments': {'target_col': 'label', 'num_clients': 10, 'alpha': 0.5,\n",
    "                                                               'balancing': False, 'shuffle': False}}),\n",
    "  'dataset_splitter': RegistryItem(**{'registry_id': 'dataset_splitter', 'name': 'stratified',\n",
    "                                      'keyword_arguments': {'target_col': 'label', 'min_samples_per_class': 20}}),\n",
    "  'fl_model': RegistryItem(**{'registry_id': 'fl_model', 'name': 'mnist_mobile_net',\n",
    "                              'keyword_arguments': {'task': 'supervised-multiclass-image-classification',\n",
    "                                                    'num_classes': 10, 'in_channels': 1}})\n",
    "}\n",
    "_components"
   ]
  },
  {
   "cell_type": "markdown",
   "id": "e61edb7e-6af2-4f96-b176-9255baf1618f",
   "metadata": {},
   "source": [
    "FedAvg Job"
   ]
  },
  {
   "cell_type": "code",
   "execution_count": null,
   "id": "d264fade-b715-433a-8bea-e9964aa11772",
   "metadata": {},
   "outputs": [],
   "source": [
    "executor_name = a.fl_executor.name\n",
    "jconfig = JobConfig(\n",
    "  name='autogen_fedavg',\n",
    "  num_rounds=3,\n",
    "  executor=executor_name,\n",
    "  executor_kwargs=q,\n",
    "  runner='base',\n",
    "  fl_algorithm={'name': 'fed_avg', 'client_kwargs': {}, 'server_kwargs': {}},\n",
    "  components=_components,\n",
    "  clients={'site-1': {}, 'site-2': {}}\n",
    ")\n",
    "JobCreator(jconfig).create(\"/opt/project/notebooks/jobs\")"
   ]
  },
  {
   "cell_type": "markdown",
   "id": "07d645ae-42ff-43e5-b589-bd24db9aae94",
   "metadata": {},
   "source": [
    "FedProx Job"
   ]
  },
  {
   "cell_type": "code",
   "execution_count": null,
   "id": "90702373-e049-4799-a34d-064d5088aa13",
   "metadata": {},
   "outputs": [],
   "source": [
    "jconfig = JobConfig(\n",
    "  name='autogen_fedprox',\n",
    "  num_rounds=3,\n",
    "  executor=a.fl_executor.name,\n",
    "  executor_kwargs=q,\n",
    "  runner='base',\n",
    "  fl_algorithm={'name': 'fed_prox', 'client_kwargs': {'mu': 0.1}, 'server_kwargs': {}},\n",
    "  components=_components,\n",
    "  clients={'site-1': {}, 'site-2': {}}\n",
    ")\n",
    "JobCreator(jconfig).create(\"/opt/project/notebooks/jobs\")"
   ]
  },
  {
   "cell_type": "markdown",
   "id": "db8abeb1-9bc6-40ad-91ac-cac1def95459",
   "metadata": {},
   "source": [
    "FedOpt Job"
   ]
  },
  {
   "cell_type": "code",
   "execution_count": null,
   "id": "6f92b3ab-7cbe-4197-b5d0-8bf8fb0e7554",
   "metadata": {},
   "outputs": [],
   "source": [
    "jconfig = JobConfig(\n",
    "  name='autogen_fedopt',\n",
    "  num_rounds=3,\n",
    "  executor=a.fl_executor.name,\n",
    "  executor_kwargs=q,\n",
    "  runner='base',\n",
    "  fl_algorithm={'name': 'fed_opt', 'client_kwargs': {}, 'server_kwargs': {}},\n",
    "  components=_components,\n",
    "  clients={'site-1': {}, 'site-2': {}}\n",
    ")\n",
    "JobCreator(jconfig).create(\"/opt/project/notebooks/jobs\")"
   ]
  },
  {
   "cell_type": "markdown",
   "id": "3420f645-008e-4bb8-9e69-4484a3408671",
   "metadata": {},
   "source": [
    "FedBN Job"
   ]
  },
  {
   "cell_type": "code",
   "execution_count": null,
   "id": "f43bde29-e0a4-460f-934d-5985f664baa8",
   "metadata": {},
   "outputs": [],
   "source": [
    "jconfig = JobConfig(\n",
    "  name='autogen_fedbn',\n",
    "  num_rounds=3,\n",
    "  executor=executor_name,\n",
    "  executor_kwargs=q,\n",
    "  runner='base',\n",
    "  fl_algorithm={'name': 'fed_bn', 'client_kwargs': {}, 'server_kwargs': {}},\n",
    "  components=_components,\n",
    "  clients={'site-1': {}, 'site-2': {}}\n",
    ")\n",
    "JobCreator(jconfig).create(\"/opt/project/notebooks/jobs\")"
   ]
  },
  {
   "cell_type": "markdown",
   "id": "33505409-e10a-4b14-9b56-f55949bc3e6b",
   "metadata": {},
   "source": [
    "### NLP Example"
   ]
  },
  {
   "cell_type": "code",
   "execution_count": null,
   "id": "68b0b4c7-fddc-439b-b32a-cab15c48dbea",
   "metadata": {},
   "outputs": [],
   "source": [
    "_nlp_components = components | {\n",
    "  'dataset_reader': RegistryItem(**{\"registry_id\": \"dataset_reader\", \"name\": \"huggingface\",\n",
    "                                    \"keyword_arguments\": {\"dataset_name\": \"fancyzhx/ag_news\",\n",
    "                                                          \"dataset_mapping\": {\"train\": \"train\", \"test\": \"test\"}}}),\n",
    "  'dataset_splitter': RegistryItem(**{\"registry_id\": \"dataset_splitter\", \"name\": \"stratified\",\n",
    "                                      \"keyword_arguments\": {\"target_col\": \"label\", \"min_samples_per_class\": 20}}),\n",
    "  'dataset_distributor': RegistryItem(**{'registry_id': 'dataset_distributor', 'name': 'dirichlet',\n",
    "                                         'keyword_arguments': {'target_col': 'label', 'num_clients': 50,\n",
    "                                                               'alpha': 3.5}}),\n",
    "  'dataframe_dataset': RegistryItem(**{\"registry_id\": \"dataframe_dataset\", \"name\": \"torch_dataframe_transforms_dataset\",\n",
    "                                       \"keyword_arguments\": {\"output_keys\": [\"text\", \"label\"], \"transforms\": {}}}),\n",
    "  'fl_model': RegistryItem(**{'registry_id': 'fl_model', 'name': 'tiny_bert_classifier',\n",
    "                              'keyword_arguments': {'task': 'supervised-multiclass-text-classification',\n",
    "                                                    'num_classes': 4}})\n",
    "}\n",
    "_nlp_components.pop(\"dataset_formatter\")\n",
    "_nlp_components.pop(\"dataset_validator\")\n",
    "_nlp_components"
   ]
  },
  {
   "cell_type": "code",
   "execution_count": null,
   "id": "2290ede9-401e-4b7c-9101-4a33d400b3e7",
   "metadata": {},
   "outputs": [],
   "source": [
    "_q = q | {\n",
    "  'datamodule_name': 'tokenizer',\n",
    "  'datamodule_kwargs': {\"batch_size\": 64, \"num_workers\": 8, \"max_length\": 128,\n",
    "                        \"tokenizer_name\": \"huawei-noah/TinyBERT_General_4L_312D\"}\n",
    "}\n",
    "_q"
   ]
  },
  {
   "cell_type": "markdown",
   "id": "e322dc61-6125-4999-b124-4222df4023df",
   "metadata": {},
   "source": [
    "FedAvg Job"
   ]
  },
  {
   "cell_type": "code",
   "execution_count": null,
   "id": "d7e2a12f-ef70-4634-9fcf-942fecffa35d",
   "metadata": {},
   "outputs": [],
   "source": [
    "jconfig = JobConfig(\n",
    "  name='autogen_nlp_fedavg',\n",
    "  num_rounds=3,\n",
    "  executor=a.fl_executor.name,\n",
    "  executor_kwargs=_q,\n",
    "  runner='base',\n",
    "  fl_algorithm={'name': 'fed_avg', 'client_kwargs': {}, 'server_kwargs': {}},\n",
    "  components=_nlp_components,\n",
    "  clients={'site-1': {}, 'site-2': {}}\n",
    ")\n",
    "JobCreator(jconfig).create(\"/opt/project/notebooks/jobs\")"
   ]
  }
 ],
 "metadata": {
  "kernelspec": {
   "display_name": "Python 3 (ipykernel)",
   "language": "python",
   "name": "python3"
  },
  "language_info": {
   "codemirror_mode": {
    "name": "ipython",
    "version": 3
   },
   "file_extension": ".py",
   "mimetype": "text/x-python",
   "name": "python",
   "nbconvert_exporter": "python",
   "pygments_lexer": "ipython3",
   "version": "3.11.13"
  }
 },
 "nbformat": 4,
 "nbformat_minor": 5
}
